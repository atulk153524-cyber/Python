{
  "cells": [
    {
      "cell_type": "markdown",
      "id": "aed467f0",
      "metadata": {
        "id": "aed467f0"
      },
      "source": [
        "# Pandas First Exercises\n",
        "Dear Students this notebook contains simple exercises for beginners to practice basic Pandas operations such as creating Series, DataFrames, saving files, and importing data."
      ]
    },
    {
      "cell_type": "markdown",
      "id": "99bfd544",
      "metadata": {
        "id": "99bfd544"
      },
      "source": [
        "### Exercise 1: Creating Pandas Series"
      ]
    },
    {
      "cell_type": "markdown",
      "id": "7b27040c",
      "metadata": {
        "id": "7b27040c"
      },
      "source": [
        "1. Create a Pandas Series containing the marks of 5 students in Maths.\n",
        "2. Create a Pandas Series that stores 5 city names.\n",
        "3. Create a Pandas Series with 5 different floating-point numbers representing temperature readings."
      ]
    },
    {
      "cell_type": "code",
      "execution_count": 1,
      "id": "OK7V5fd5kmrn",
      "metadata": {
        "id": "OK7V5fd5kmrn"
      },
      "outputs": [
        {
          "name": "stdout",
          "output_type": "stream",
          "text": [
            "0    45\n",
            "1    56\n",
            "2    57\n",
            "3    34\n",
            "4    55\n",
            "dtype: int64\n",
            "0    up\n",
            "1    mp\n",
            "2    uk\n",
            "3    ap\n",
            "dtype: object\n",
            "0    23.4\n",
            "1    45.3\n",
            "2    56.3\n",
            "3    22.3\n",
            "dtype: float64\n"
          ]
        }
      ],
      "source": [
        "#answer here\n",
        "import pandas as pd\n",
        "\n",
        "marks = pd.Series([45,56,57,34,55])\n",
        "city = pd.Series([\"up\",\"mp\",\"uk\",\"ap\"])\n",
        "temp = pd.Series([23.4,45.3,56.3,22.3])\n",
        "\n",
        "print(marks)\n",
        "print(city)\n",
        "print(temp)"
      ]
    },
    {
      "cell_type": "markdown",
      "id": "40f70f70",
      "metadata": {
        "id": "40f70f70"
      },
      "source": [
        "### Exercise 2: Creating DataFrames from Series"
      ]
    },
    {
      "cell_type": "markdown",
      "id": "dcbe763b",
      "metadata": {
        "id": "dcbe763b"
      },
      "source": [
        "1. Create two Series: one containing student names and another containing their ages. Combine them into a single DataFrame.\n",
        "2. Create three Series: 'Product Name', 'Price', and 'Quantity'. Combine them into one DataFrame and display it."
      ]
    },
    {
      "cell_type": "code",
      "execution_count": 13,
      "id": "_E_7kzvVkp7e",
      "metadata": {
        "id": "_E_7kzvVkp7e"
      },
      "outputs": [
        {
          "name": "stdout",
          "output_type": "stream",
          "text": [
            "   name  age\n",
            "0   hum   34\n",
            "1   tum   45\n",
            "2  uppp   23\n",
            "    product  price  quantity\n",
            "0  hardware   4500         4\n",
            "1  software    678         6\n"
          ]
        }
      ],
      "source": [
        "#answer here\n",
        "name = pd.Series([\"hum\",\"tum\",\"uppp\"])\n",
        "age = pd.Series([34,45,23])\n",
        "df = pd.concat({\"name\":name,\"age\":age},axis=1)\n",
        "print(df)\n",
        "\n",
        "product = pd.Series([\"hardware\",\"software\"])\n",
        "price = pd.Series([4500,678])\n",
        "quantity = pd.Series([4,6])\n",
        "af = pd.concat({\"product\":product,\"price\":price,\"quantity\":quantity},axis=1)\n",
        "print(af)"
      ]
    },
    {
      "cell_type": "markdown",
      "id": "13c74f3d",
      "metadata": {
        "id": "13c74f3d"
      },
      "source": [
        "### Exercise 3: Creating DataFrames from Dictionaries"
      ]
    },
    {
      "cell_type": "markdown",
      "id": "14cd2ed5",
      "metadata": {
        "id": "14cd2ed5"
      },
      "source": [
        "1. Create a dictionary with keys as 'Name', 'Age', and 'City', each containing a list of 3 values. Convert it into a DataFrame.\n",
        "2. Create a dictionary with keys 'Product', 'Category', and 'Price'. Convert it into a DataFrame and print it."
      ]
    },
    {
      "cell_type": "code",
      "execution_count": 23,
      "id": "JLxq4HlGkqig",
      "metadata": {
        "id": "JLxq4HlGkqig"
      },
      "outputs": [
        {
          "name": "stdout",
          "output_type": "stream",
          "text": [
            "   name  age     city\n",
            "0  atul   34    delhi\n",
            "1  ravi   78  haryana\n",
            "2  anup   29    bihar\n",
            "   product    category  price\n",
            "0    phone  electronic    456\n",
            "1   laptop      makeup    678\n",
            "2  charger   something  39430\n"
          ]
        }
      ],
      "source": [
        "#answer here\n",
        "my_dict = {\n",
        "    'name':[\"atul\",\"ravi\",\"anup\"],\n",
        "    'age':[34,78,29],\n",
        "    'city':[\"delhi\",\"haryana\",\"bihar\"]\n",
        "}\n",
        "\n",
        "df = pd.DataFrame(my_dict)\n",
        "print(df)\n",
        "\n",
        "my_dict2 = {\n",
        "    'product':[\"phone\",\"laptop\",\"charger\"],\n",
        "    'category':[\"electronic\",\"makeup\",\"something\"],\n",
        "    'price':[456,678,39430]\n",
        "}\n",
        "\n",
        "cf = pd.DataFrame(my_dict2)\n",
        "print(cf)\n",
        "\n"
      ]
    },
    {
      "cell_type": "markdown",
      "id": "76437b78",
      "metadata": {
        "id": "76437b78"
      },
      "source": [
        "### Exercise 4: Saving DataFrames to CSV and Excel"
      ]
    },
    {
      "cell_type": "markdown",
      "id": "a7b957b3",
      "metadata": {
        "id": "a7b957b3"
      },
      "source": [
        "1. Save any one of your created DataFrames into a CSV file named 'students.csv'.\n",
        "2. Save another DataFrame into an Excel file named 'products.xlsx'."
      ]
    },
    {
      "cell_type": "code",
      "execution_count": 28,
      "id": "1ewTIFMykrER",
      "metadata": {
        "id": "1ewTIFMykrER"
      },
      "outputs": [],
      "source": [
        "df.to_csv(\"Student_CSV.csv\")\n",
        "cf.to_excel(\"Student.xlsx\")"
      ]
    },
    {
      "cell_type": "markdown",
      "id": "003c619d",
      "metadata": {
        "id": "003c619d"
      },
      "source": [
        "### Exercise 5: Reading Data from Files"
      ]
    },
    {
      "cell_type": "markdown",
      "id": "acbd6ed2",
      "metadata": {
        "id": "acbd6ed2"
      },
      "source": [
        "1. Use Pandas to read the CSV file 'students.csv' that you created earlier.\n",
        "2. Use Pandas to read the Excel file 'products.xlsx' that you created earlier."
      ]
    },
    {
      "cell_type": "code",
      "execution_count": 5,
      "id": "4abENRlTkrsx",
      "metadata": {
        "id": "4abENRlTkrsx"
      },
      "outputs": [],
      "source": [
        "#answer here\n",
        "var = pd.read_csv(r\"C:\\Users\\EliteBook\\Documents\\Student_CSV.csv\")\n"
      ]
    },
    {
      "cell_type": "code",
      "execution_count": 31,
      "id": "0dce2518",
      "metadata": {},
      "outputs": [],
      "source": [
        "var = pd.read_excel(r\"C:\\Users\\EliteBook\\Documents\\Student_XLSX.xlsx\")"
      ]
    },
    {
      "cell_type": "code",
      "execution_count": null,
      "id": "bbfba04b",
      "metadata": {},
      "outputs": [],
      "source": []
    }
  ],
  "metadata": {
    "colab": {
      "provenance": []
    },
    "kernelspec": {
      "display_name": "Python 3",
      "language": "python",
      "name": "python3"
    },
    "language_info": {
      "codemirror_mode": {
        "name": "ipython",
        "version": 3
      },
      "file_extension": ".py",
      "mimetype": "text/x-python",
      "name": "python",
      "nbconvert_exporter": "python",
      "pygments_lexer": "ipython3",
      "version": "3.11.4"
    }
  },
  "nbformat": 4,
  "nbformat_minor": 5
}
