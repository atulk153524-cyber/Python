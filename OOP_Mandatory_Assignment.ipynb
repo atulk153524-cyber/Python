{
  "cells": [
    {
      "cell_type": "markdown",
      "id": "e9977157",
      "metadata": {
        "id": "e9977157"
      },
      "source": [
        "# Object-Oriented Programming (OOP) - Practice Assignment\n",
        "\n",
        "This assignment will help you understand the basics of Object-Oriented Programming (OOP) in Python.  \n",
        "Each question is written in a simple way so that you know exactly what to do.\n",
        "\n",
        "**Structure:**\n",
        "- 6 Easy Questions  \n",
        "- 2 Medium Questions  \n",
        "- 2 Hard Questions\n",
        "\n",
        "Follow each question carefully and try to run the examples step by step.\n"
      ]
    },
    {
      "cell_type": "markdown",
      "id": "522a3c58",
      "metadata": {
        "id": "522a3c58"
      },
      "source": [
        "### Question 1 (Easy)\n",
        "**Create a Class and Object**\n",
        "\n",
        "Create a class named `Student` with one attribute `name`.  \n",
        "Then create an object of this class and print the student's name.\n",
        "\n",
        "*Hint:* Use the `__init__` method to initialize the name attribute."
      ]
    },
    {
      "cell_type": "code",
      "execution_count": 8,
      "id": "eoxW1xeIzyDT",
      "metadata": {
        "id": "eoxW1xeIzyDT"
      },
      "outputs": [
        {
          "name": "stdout",
          "output_type": "stream",
          "text": [
            "Sonu\n"
          ]
        }
      ],
      "source": [
        "#answer here\n",
        "class student:\n",
        "    def __init__(self,name):\n",
        "        self.name = name\n",
        "Name1 = student(\"Sonu\")\n",
        "print(Name1.name)"
      ]
    },
    {
      "cell_type": "markdown",
      "id": "62eb0fc1",
      "metadata": {
        "id": "62eb0fc1"
      },
      "source": [
        "### Question 2 (Easy)\n",
        "**Add Multiple Attributes**\n",
        "\n",
        "Create a class `Car` that has two attributes: `brand` and `year`.  \n",
        "Create two objects of this class for two different cars and print their details using `print()`."
      ]
    },
    {
      "cell_type": "code",
      "execution_count": 13,
      "id": "aDLB9Ourz1fb",
      "metadata": {
        "id": "aDLB9Ourz1fb"
      },
      "outputs": [
        {
          "name": "stdout",
          "output_type": "stream",
          "text": [
            "BMW 1968\n",
            "BMW 1969\n"
          ]
        }
      ],
      "source": [
        "#answer here\n",
        "class Car:\n",
        "    def __init__(self,brand,year):\n",
        "        self.brand = brand\n",
        "        self.year = year\n",
        "\n",
        "car1 = Car(\"BMW\",\"1968\")\n",
        "car2 = Car(\"Dodeg\",\"1969\")\n",
        "print(car1.brand,car1.year)\n",
        "print(car1.brand,car2.year)"
      ]
    },
    {
      "cell_type": "markdown",
      "id": "009120a2",
      "metadata": {
        "id": "009120a2"
      },
      "source": [
        "### Question 3 (Easy)\n",
        "**Methods in a Class**\n",
        "\n",
        "Create a class `Circle` with one attribute `radius`.  \n",
        "Add a method `area()` that returns the area of the circle.\n",
        "\n",
        "*Formula:* Area = π × radius²"
      ]
    },
    {
      "cell_type": "code",
      "execution_count": null,
      "id": "yNLySqc9z2PO",
      "metadata": {
        "id": "yNLySqc9z2PO"
      },
      "outputs": [
        {
          "data": {
            "text/plain": [
              "113.03999999999999"
            ]
          },
          "execution_count": 15,
          "metadata": {},
          "output_type": "execute_result"
        }
      ],
      "source": [
        "#answer here\n",
        "class Circle:\n",
        "    def __init__(self,radius):\n",
        "        self.radius = radius\n",
        "\n",
        "    def Area(self):\n",
        "        return 3.14*self.radius*self.radius\n",
        "\n",
        "circle = Circle(6)\n",
        "print(circle.Area())"
      ]
    },
    {
      "cell_type": "markdown",
      "id": "0b760f6d",
      "metadata": {
        "id": "0b760f6d"
      },
      "source": [
        "### Question 4 (Easy)\n",
        "**Default and Parameterized Constructor**\n",
        "\n",
        "Create a class `Book` that takes the book title and author name as parameters when creating an object.  \n",
        "Also, create one object without any arguments and set default values like `'Unknown Title'` and `'Unknown Author'`."
      ]
    },
    {
      "cell_type": "code",
      "execution_count": 17,
      "id": "pbYx_DZDz2xR",
      "metadata": {
        "id": "pbYx_DZDz2xR"
      },
      "outputs": [
        {
          "name": "stdout",
          "output_type": "stream",
          "text": [
            "william jones\n",
            "shakes pears\n"
          ]
        }
      ],
      "source": [
        "#answer here\n",
        "class Book:\n",
        "    def __init__(self,title ='unknown_title', author ='unknown_author'):\n",
        "        self.title = title\n",
        "        self.author = author\n",
        "\n",
        "book1 = Book(\"william\",'jones')\n",
        "book2 = Book(\"shakes\",\"pears\")\n",
        "\n",
        "print(book1.title,book1.author)\n",
        "print(book2.title,book2.author)"
      ]
    },
    {
      "cell_type": "markdown",
      "id": "67ac94fd",
      "metadata": {
        "id": "67ac94fd"
      },
      "source": [
        "### Question 5 (Easy)\n",
        "**Use of Self Keyword**\n",
        "\n",
        "Create a class `Employee` that has a method `display()` which prints `'This is an Employee class'`.  \n",
        "Then create one object and call the method using that object."
      ]
    },
    {
      "cell_type": "code",
      "execution_count": 23,
      "id": "8JXQn5LCz3Qp",
      "metadata": {
        "id": "8JXQn5LCz3Qp"
      },
      "outputs": [
        {
          "name": "stdout",
          "output_type": "stream",
          "text": [
            "This is an Enployee class\n"
          ]
        }
      ],
      "source": [
        "#answer here\n",
        "class Employee:\n",
        "    def __init__(self,num):\n",
        "        self.num = num\n",
        "\n",
        "    def display(self):\n",
        "        return f\"This is an Enployee class\"\n",
        "    \n",
        "self1 = Employee(\"you\")\n",
        "print(self1.display())"
      ]
    },
    {
      "cell_type": "markdown",
      "id": "dce22c96",
      "metadata": {
        "id": "dce22c96"
      },
      "source": [
        "### Question 6 (Easy)\n",
        "**Simple Calculator Class**\n",
        "\n",
        "Create a class `Calculator` with methods for addition, subtraction, multiplication, and division.  \n",
        "Each method should take two numbers as parameters and return the result."
      ]
    },
    {
      "cell_type": "code",
      "execution_count": 28,
      "id": "WeDQIvebz3uF",
      "metadata": {
        "id": "WeDQIvebz3uF"
      },
      "outputs": [
        {
          "name": "stdout",
          "output_type": "stream",
          "text": [
            "7\n",
            "-3\n",
            "28\n",
            "1.5\n"
          ]
        }
      ],
      "source": [
        "#answer here\n",
        "class Calculator:\n",
        "    def add(self,a,b):\n",
        "        return a+b\n",
        "    \n",
        "    def sub(self,a,b):\n",
        "        return a-b\n",
        "    \n",
        "    def multiply(self,a,b):\n",
        "        return a*b\n",
        "    \n",
        "    def divide(self,a,b):\n",
        "        return a/b\n",
        "calc = Calculator()\n",
        "\n",
        "print(calc.add(3,4))\n",
        "print(calc.sub(2,5))\n",
        "print(calc.multiply(4,7))\n",
        "print(calc.divide(9,6))"
      ]
    },
    {
      "cell_type": "markdown",
      "id": "d5f60974",
      "metadata": {
        "id": "d5f60974"
      },
      "source": [
        "### Question 7 (Medium)\n",
        "**Working with Multiple Objects**\n",
        "\n",
        "Create a class `Student` with attributes `name`, `marks1`, `marks2`, and `marks3`.  \n",
        "Add a method `average()` that returns the average marks of the student.  \n",
        "Create objects for three students and print their average marks."
      ]
    },
    {
      "cell_type": "code",
      "execution_count": 35,
      "id": "un7JLb6dz4MD",
      "metadata": {
        "id": "un7JLb6dz4MD"
      },
      "outputs": [
        {
          "name": "stdout",
          "output_type": "stream",
          "text": [
            "82.0\n"
          ]
        }
      ],
      "source": [
        "#answer here\n",
        "class Student:\n",
        "    def __init__(self,name,marks1,marks2,marks3):\n",
        "        self.name = name\n",
        "        self.marks1 = marks1\n",
        "        self.marks2 = marks2\n",
        "        self.marks3 = marks3\n",
        "    \n",
        "    def Average(self):\n",
        "        return (self.marks1 + self.marks2 + self.marks3)/3\n",
        "\n",
        "student1 = Student(\"jhon\",67,89,90)\n",
        "print(student1.Average())\n",
        "    "
      ]
    },
    {
      "cell_type": "markdown",
      "id": "6047ad11",
      "metadata": {
        "id": "6047ad11"
      },
      "source": [
        "### Question 8 (Medium)\n",
        "**Inheritance Concept**\n",
        "\n",
        "Create a base class `Person` with an attribute `name` and a method `show_name()`.  \n",
        "Then create a derived class `Teacher` that adds a new attribute `subject` and a method `show_subject()`.  \n",
        "Create an object of `Teacher` and call both methods."
      ]
    },
    {
      "cell_type": "code",
      "execution_count": 38,
      "id": "3RF85lsjz4sT",
      "metadata": {
        "id": "3RF85lsjz4sT"
      },
      "outputs": [
        {
          "name": "stdout",
          "output_type": "stream",
          "text": [
            "vansu\n",
            "math\n"
          ]
        }
      ],
      "source": [
        "#answer here\n",
        "class Person:\n",
        "    def __init__(self,name):\n",
        "        self.name = name\n",
        "    \n",
        "    def show_name(self):\n",
        "        return self.name\n",
        "\n",
        "class Teacher(Person):\n",
        "    def __init__(self,name,subject):\n",
        "        super().__init__(name)\n",
        "        self.subject = subject\n",
        "    \n",
        "    def show_subject(self):\n",
        "        return self.subject\n",
        "\n",
        "subject1 = Teacher(\"vansu\",\"math\")\n",
        "print(subject1.show_name())\n",
        "print(subject1.show_subject())\n",
        "\n"
      ]
    },
    {
      "cell_type": "markdown",
      "id": "062ac860",
      "metadata": {
        "id": "062ac860"
      },
      "source": [
        "### Question 9 (Hard)\n",
        "**Encapsulation Example**\n",
        "\n",
        "Create a class `BankAccount` with attributes `__balance` (private) and `account_holder`.  \n",
        "Add methods `deposit(amount)` and `withdraw(amount)` to update the balance safely.  \n",
        "Print the final balance only through a method `show_balance()`."
      ]
    },
    {
      "cell_type": "code",
      "execution_count": null,
      "id": "F6gWsUOFz5XN",
      "metadata": {
        "id": "F6gWsUOFz5XN"
      },
      "outputs": [],
      "source": [
        "#answer here\n",
        "class BankAccount:\n",
        "    def __init__(self,balance,account_holder):\n",
        "        self.__balance = balance\n",
        "        self.account_holder = account_holder\n",
        "    \n",
        "    def deposit(self,amount):\n",
        "        if amount>0:\n",
        "            self.__balance += amount\n",
        "            print(f\"Deposite{amount}\")\n",
        "    \n",
        "    def withdraw(self,amount):\n",
        "        if 0<amount<self.__balance:\n",
        "            self.__balance -= amount\n",
        "            print(f\"Withdraw{amount}\")\n",
        "\n",
        "    def show_balance(self):\n",
        "        print(self.account_holder)\n",
        "        print(self.__balance)\n",
        "\n",
        "\n",
        "    \n",
        "    "
      ]
    },
    {
      "cell_type": "markdown",
      "id": "f10a7d88",
      "metadata": {
        "id": "f10a7d88"
      },
      "source": [
        "### Question 10 (Hard)\n",
        "**Polymorphism Example**\n",
        "\n",
        "Create two classes: `Dog` and `Cat`.  \n",
        "Both should have a method named `speak()` that prints the sound of the animal.  \n",
        "Write a function `animal_sound(animal)` that calls the `speak()` method of any animal passed to it.\n",
        "\n",
        "*Hint:* This shows how the same method name can have different behaviors depending on the object type."
      ]
    },
    {
      "cell_type": "code",
      "execution_count": 45,
      "id": "tvczT-hEz6Kd",
      "metadata": {
        "id": "tvczT-hEz6Kd"
      },
      "outputs": [
        {
          "name": "stdout",
          "output_type": "stream",
          "text": [
            "bark\n",
            "None\n"
          ]
        }
      ],
      "source": [
        "#answer here\n",
        "class Dog:\n",
        "    def __init__(self,speak):\n",
        "        self.speak = speak\n",
        "\n",
        "\n",
        "class Cat:\n",
        "    def __init__(self,speak):\n",
        "        self.speak = speak\n",
        "\n",
        "def animal_sound(animal):\n",
        "    print(animal.speak)\n",
        "\n",
        "dog = Dog(\"bark\")\n",
        "cat = Cat(\"meow\")\n",
        "\n",
        "print(animal_sound(dog))"
      ]
    }
  ],
  "metadata": {
    "colab": {
      "provenance": []
    },
    "kernelspec": {
      "display_name": "Python 3",
      "language": "python",
      "name": "python3"
    },
    "language_info": {
      "codemirror_mode": {
        "name": "ipython",
        "version": 3
      },
      "file_extension": ".py",
      "mimetype": "text/x-python",
      "name": "python",
      "nbconvert_exporter": "python",
      "pygments_lexer": "ipython3",
      "version": "3.11.4"
    }
  },
  "nbformat": 4,
  "nbformat_minor": 5
}
